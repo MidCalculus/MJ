{
 "cells": [
  {
   "cell_type": "code",
   "execution_count": null,
   "metadata": {},
   "outputs": [],
   "source": [
    "import requests  \n",
    "from bs4 import BeautifulSoup\n",
    "import pandas as pd\n",
    "\n",
    "HEADERS = {\"User-agent\" : \"Mozilla/5.0 (Windows NT 10.0; Win64; x64) AppleWebKit/537.36 (KHTML, like Gecko) Chrome/104.0.0.0 Safari/537.36\"}\n",
    "URL = \"https://store.steampowered.com/search/?filter=topsellers\"\n",
    "\n",
    "DATA = requests.get(URL, headers = HEADERS)\n",
    "SOUP = BeautifulSoup(DATA.text, \"html.parser\")\n",
    "\n",
    "GAMES = SOUP.select(\"#search_resultsRows > a\")\n",
    "SEARCH = []\n",
    "\n",
    "for item in GAMES:\n",
    "    title = item.select_one(\"div.responsive_search_name_combined > div.col.search_name.ellipsis > span\").text\n",
    "    released = item.select_one(\"div.responsive_search_name_combined > div.col.search_released.responsive_secondrow\").text\n",
    "    if released == '':\n",
    "        released = '-'\n",
    "    link = item.get(\"href\")\n",
    "    SEARCH.append([title, released, link])\n",
    "\n",
    "Tabler = pd.DataFrame(SEARCH, columns=[\"Title\", \"Released Date\", \"Link\"])\n",
    "Tabler.to_cvs(\"SteamTopSellers.csv\")\n",
    "\n",
    "print(Tabler)"
   ]
  },
  {
   "cell_type": "code",
   "execution_count": null,
   "metadata": {},
   "outputs": [],
   "source": [
    "import matplotlib.pyplot as plt\n",
    "\n",
    "plt.plot([1,2,3,4], [1, 4, 9, 16], \"-.\")\n",
    "plt.show()"
   ]
  },
  {
   "cell_type": "code",
   "execution_count": null,
   "metadata": {},
   "outputs": [],
   "source": [
    "import matplotlib.pyplot as plt\n",
    "import numpy as np\n",
    "\n",
    "test_array = np.arange(1, 10, 2)\n",
    "plt.plot(test_array, test_array, \"r--\", test_array, test_array * 2, \"m-.\", test_array, test_array ** 2, \"c:\")\n",
    "plt.show()\n"
   ]
  },
  {
   "cell_type": "code",
   "execution_count": null,
   "metadata": {},
   "outputs": [],
   "source": [
    "import matplotlib.pyplot as plt\n",
    "import numpy as np\n",
    "\n",
    "test_array = np.arange(1, 31, 2).reshape(3,5)\n",
    "print(test_array)\n",
    "\n",
    "plt.plot(test_array)\n",
    "plt.show()"
   ]
  },
  {
   "cell_type": "code",
   "execution_count": null,
   "metadata": {},
   "outputs": [],
   "source": [
    "import matplotlib.pyplot as plt\n",
    "import numpy as np\n",
    "x_arr = np.arange(0, 6)\n",
    "y_arr = np.arange(0, 6) ** 2\n",
    "\n",
    "plt.plot(x_arr, y_arr, \"c-\", label = \"Time spent on roblox\")\n",
    "plt.xlabel(\"Weeks\")\n",
    "plt.ylabel(\"Hours\")\n",
    "plt.legend()\n",
    "plt.show()"
   ]
  },
  {
   "cell_type": "code",
   "execution_count": null,
   "metadata": {},
   "outputs": [],
   "source": [
    "import matplotlib.pyplot as plt\n",
    "import numpy as np\n",
    "\n",
    "vals = np.arange(5)\n",
    "years = [\"2017\", \"2018\", \"2019\", \"2020\", \"2021\"]\n",
    "earnings = [28100, 29700, 19300, 16200, 23800]\n",
    "\n",
    "colors = [\"violet\", \"cyan\", \"pink\", \"red\", \"blue\"]\n",
    "plt.bar(vals, earnings, color = colors, width = 0.4)\n",
    "\n",
    "plt.title(\"Mr. Kims Earnings\")\n",
    "plt.xticks(vals, years)\n",
    "plt.xlabel(\"Years\")\n",
    "plt.ylabel(\"Earnings($)\")\n",
    "\n",
    "plt.show()"
   ]
  },
  {
   "cell_type": "code",
   "execution_count": null,
   "metadata": {},
   "outputs": [],
   "source": [
    "import matplotlib.pyplot as plt\n",
    "import numpy as np\n",
    "\n",
    "spendings = [300, 50, 50, 100, 350, 150]\n",
    "\n",
    "category = [\"Food\", \"Entertainment\", \"Medical\", \"Transportation\", \"House\", \"Savings\"]\n",
    "\n",
    "cols = [\"#e6732f\", \"#33af74\", \"#33af75\", \"#f19b7a\", \"#2261a5\"]\n",
    "wedge = {\"width\":0.7, \"edgecolor\":'k', \"linewidth\":1}\n",
    "exp = [0, 0.1, 0.01, 0.05, 0.1, 0.03]\n",
    "plt.pie(spendings, labels=category, autopct=\"%.2f%%\", explode = exp, shadow=True, colors = cols, wedgeprops = wedge)\n",
    "plt.title(\"Monthly Spendings ($1000)\")\n",
    "plt.show()"
   ]
  },
  {
   "cell_type": "code",
   "execution_count": null,
   "metadata": {},
   "outputs": [],
   "source": [
    "import matplotlib.pyplot as plt\n",
    "import numpy as np\n",
    "\n",
    "percent = [\"28.40\", \"17.30\", \"13.59\", \"12.40\", \"28.31\"]\n",
    "wedge = {\"width\":0.7, \"edgecolor\":'k', \"linewidth\":1}\n",
    "languages = [\"PY\", \"Java\", \"C/C#/C++\", \"JS/TS\", \"Others\"]\n",
    "cols = [\"blue\", \"red\", \"green\", \"yellow\", \"grey\"]\n",
    "exp = [0.1, 0.05, 0.04, 0.04, 0.1]\n",
    "plt.pie(percent, labels = languages, autopct=\"%.2f%%\", explode = exp, shadow = True, colors = cols, wedgeprops = wedge)\n",
    "plt.title(\"Percentages of Coding Languages(100%)\")\n",
    "plt.show()\n"
   ]
  },
  {
   "cell_type": "code",
   "execution_count": null,
   "metadata": {},
   "outputs": [],
   "source": [
    "import matplotlib.pyplot as plt\n",
    "import numpy as np\n",
    "\n",
    "vals = np.arange(5)\n",
    "\n",
    "percent = [28.40, 17.30, 13.59, 12.40, 28.31]\n",
    "languages = [\"PY\", \"Java\", \"C/C#/C++\", \"JS/TS\", \"Others\"]\n",
    "cols = [\"blue\", \"red\", \"green\", \"yellow\", \"grey\"]\n",
    "\n",
    "plt.bar(vals, percent, color = cols, width = 0.4)\n",
    "\n",
    "plt.title(\"Percentages of Coding Languages\")\n",
    "plt.xticks(vals, languages)\n",
    "plt.xlabel(\"Coding Languages\")\n",
    "plt.ylabel(\"Percentage rate\")\n",
    "\n",
    "plt.show()"
   ]
  },
  {
   "cell_type": "code",
   "execution_count": null,
   "metadata": {},
   "outputs": [],
   "source": [
    "import matplotlib.pyplot as plt\n",
    "import numpy as np\n",
    "\n",
    "test_array = np.arange(1, 10, 2)\n",
    "plt.plot(test_array, test_array, \"r--\", test_array, test_array * 2, \"m-.\", test_array, test_array ** 2, \"c:\")\n",
    "plt.show()\n"
   ]
  },
  {
   "cell_type": "code",
   "execution_count": null,
   "metadata": {},
   "outputs": [],
   "source": [
    "import matplotlib.pyplot as plt\n",
    "import numpy as np\n",
    "import time\n",
    "import requests\n",
    "from bs4 import BeautifulSoup\n",
    "\n",
    "URL = \"https://weather.com/ko-KR/weather/tenday/l/b757e0078b0b1350973ea8930d24ef111c7b8457939f4e2046fc8bbe48119f17\"\n",
    "HEADERS = {\"User-agent\" : \"Mozilla/5.0 (Windows NT 10.0; Win64; x64) AppleWebKit/537.36 (KHTML, like Gecko) Chrome/104.0.0.0 Safari/537.36\"}\n",
    "DATA = requests.get(URL, headers = HEADERS)\n",
    "SOUP = BeautifulSoup(DATA.text, \"html.parser\")\n",
    "\n",
    "HTEMP = SOUP.find_all(\"span\", {\"class\" : \"DetailsSummary--highTempValue--3Oteu\"})\n",
    "LTEMP = SOUP.find_all(\"span\", {\"class\" : \"DetailsSummary--lowTempValue--3H-7I\"})\n",
    "\n",
    "L_HTEMP = []\n",
    "L_LTEMP = []\n",
    "for high in HTEMP:\n",
    "    if high.text != \"--\":\n",
    "        L_HTEMP.append(int(high.text.replace('°', '')))\n",
    "    else:\n",
    "        L_HTEMP.append(12)\n",
    "\n",
    "for low in LTEMP:\n",
    "    L_LTEMP.append(int(low.text.replace('°', '')))\n",
    "\n",
    "t_day = int(time.strftime(\"%d\", time.localtime(time.time())))\n",
    "t_month = time.strftime(\"%b\", time.localtime(time.time()))\n",
    "\n",
    "L_DAYS = []\n",
    "for i in range(0, len(L_LTEMP)):\n",
    "    L_DAYS.append(t_day)\n",
    "    t_day += 1\n",
    "\n",
    "\n",
    "plt.title(\"weather Forecast\")\n",
    "plt.plot(L_DAYS, L_HTEMP, \"r--\", label = \"High Temp\")\n",
    "plt.plot(L_DAYS, L_LTEMP, \"c-\", label = \"Low Temp\")\n",
    "plt.xlabel(\"Days ({})\".format(t_month))\n",
    "plt.ylabel(\"TEMPERATURE 9(°)\")\n",
    "plt.legend(loc=\"best\")\n",
    "plt.tight_layout()\n",
    "plt.savefig(\"weather.png\", facecolor = \"#eeeeee\")\n",
    "\n",
    "plt.show()\n",
    "\n",
    "\n"
   ]
  },
  {
   "cell_type": "code",
   "execution_count": null,
   "metadata": {},
   "outputs": [],
   "source": []
  }
 ],
 "metadata": {
  "kernelspec": {
   "display_name": "Python 3.10.2 64-bit",
   "language": "python",
   "name": "python3"
  },
  "language_info": {
   "codemirror_mode": {
    "name": "ipython",
    "version": 3
   },
   "file_extension": ".py",
   "mimetype": "text/x-python",
   "name": "python",
   "nbconvert_exporter": "python",
   "pygments_lexer": "ipython3",
   "version": "3.9.13"
  },
  "orig_nbformat": 4,
  "vscode": {
   "interpreter": {
    "hash": "a9a2b797749572ff39dfd1419de2d1a65bff9d6a1d2f5d4b94c3c7b6a87129ab"
   }
  }
 },
 "nbformat": 4,
 "nbformat_minor": 2
}
