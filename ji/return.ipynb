{
 "cells": [
  {
   "attachments": {},
   "cell_type": "markdown",
   "metadata": {},
   "source": [
    "# Day 1 \n",
    "    "
   ]
  },
  {
   "cell_type": "code",
   "execution_count": 3,
   "metadata": {},
   "outputs": [
    {
     "name": "stderr",
     "output_type": "stream",
     "text": [
      "[WDM] - Downloading: 100%|██████████| 6.78M/6.78M [00:01<00:00, 4.74MB/s]\n"
     ]
    }
   ],
   "source": [
    "from selenium import webdriver\n",
    "from selenium.webdriver.chrome.service import Service\n",
    "\n",
    "from selenium.webdriver.common.by import By\n",
    "from webdriver_manager.chrome import ChromeDriverManager\n",
    "\n",
    "driver = webdriver.Chrome(service=Service(ChromeDriverManager().install()))\n",
    "url = \"https://www.google.com\"\n",
    "driver.get(url)\n",
    "\n",
    "\n",
    "keyword = \"python coding\"\n",
    "searchbox = driver.find_element(By.NAME, 'q')\n",
    "searchbox.send_keys(keyword)\n",
    "\n",
    "searchbox.submit()\n",
    "\n"
   ]
  },
  {
   "attachments": {},
   "cell_type": "markdown",
   "metadata": {},
   "source": [
    "# Day 2"
   ]
  },
  {
   "cell_type": "code",
   "execution_count": 6,
   "metadata": {},
   "outputs": [],
   "source": [
    "import folium\n",
    "\n",
    "fm = folium = folium.Map(location = [38.897957,-77.036560], zoom_start = 18, width = 800, height = 600)\n",
    "\n",
    "fm.save(\"mapl.html\")"
   ]
  },
  {
   "cell_type": "code",
   "execution_count": 3,
   "metadata": {},
   "outputs": [],
   "source": [
    "import folium\n",
    "\n",
    "m = folium.Map(location = [90.897957, -77.036560], zoom_start = 18, width = 800, height = 600)\n",
    "folium.Marker(location = [90.897957, -77.036560], popup = '<iframe width = \"300\" height = \"200\" src = \"https://www.youtube.com/watch?v=dQw4w9WgXcQ\"></iframe>').add_to(m)\n",
    "\n",
    "m.save(\"mapl.html\")"
   ]
  },
  {
   "attachments": {},
   "cell_type": "markdown",
   "metadata": {},
   "source": [
    "# folium\n",
    "## making map\n",
    "### let's use coordinates\n",
    "\n",
    "> import folium\n",
    "\n",
    "1. first\n",
    "2. Second\n",
    "3. Third\n",
    "\n",
    "- HI\n",
    "- My name is\n",
    "- blah"
   ]
  },
  {
   "cell_type": "code",
   "execution_count": null,
   "metadata": {},
   "outputs": [],
   "source": []
  },
  {
   "cell_type": "markdown",
   "metadata": {},
   "source": []
  }
 ],
 "metadata": {
  "kernelspec": {
   "display_name": "Python 3",
   "language": "python",
   "name": "python3"
  },
  "language_info": {
   "codemirror_mode": {
    "name": "ipython",
    "version": 3
   },
   "file_extension": ".py",
   "mimetype": "text/x-python",
   "name": "python",
   "nbconvert_exporter": "python",
   "pygments_lexer": "ipython3",
   "version": "3.11.1"
  },
  "orig_nbformat": 4
 },
 "nbformat": 4,
 "nbformat_minor": 2
}
